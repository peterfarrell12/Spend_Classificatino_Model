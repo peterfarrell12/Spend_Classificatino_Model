{
  "nbformat": 4,
  "nbformat_minor": 0,
  "metadata": {
    "colab": {
      "name": "Tool_Classifier_User_Interface.ipynb",
      "version": "0.3.2",
      "provenance": [],
      "include_colab_link": true
    },
    "kernelspec": {
      "name": "python3",
      "display_name": "Python 3"
    }
  },
  "cells": [
    {
      "cell_type": "markdown",
      "metadata": {
        "id": "view-in-github",
        "colab_type": "text"
      },
      "source": [
        "<a href=\"https://colab.research.google.com/github/peterfarrell12/Spend_Classification_Model/blob/master/Tool_Classifier_User_Interface.ipynb\" target=\"_parent\"><img src=\"https://colab.research.google.com/assets/colab-badge.svg\" alt=\"Open In Colab\"/></a>"
      ]
    },
    {
      "cell_type": "code",
      "metadata": {
        "id": "ak73QEBGOyFt",
        "colab_type": "code",
        "colab": {}
      },
      "source": [
        "import pandas as pd\n",
        "import numpy as np\n",
        "from google.colab import drive\n",
        "drive.mount('/content/gdrive')"
      ],
      "execution_count": 0,
      "outputs": []
    },
    {
      "cell_type": "code",
      "metadata": {
        "id": "UkLVPst-O84w",
        "colab_type": "code",
        "colab": {}
      },
      "source": [
        "import torch\n",
        "model_save_name = 'classifier.pt'\n",
        "path = F\"/content/gdrive/My Drive/{model_save_name}\"\n",
        "model1 = torch.load(path)"
      ],
      "execution_count": 0,
      "outputs": []
    },
    {
      "cell_type": "code",
      "metadata": {
        "id": "8bC-Y5WjQR9a",
        "colab_type": "code",
        "colab": {}
      },
      "source": [
        "from google.colab import files\n",
        "\n",
        "uploaded = files.upload()"
      ],
      "execution_count": 0,
      "outputs": []
    },
    {
      "cell_type": "code",
      "metadata": {
        "id": "3-k51c3sTGuE",
        "colab_type": "code",
        "colab": {}
      },
      "source": [
        "filename = input('Enter File Name:' ) + '.xlsx'"
      ],
      "execution_count": 0,
      "outputs": []
    },
    {
      "cell_type": "code",
      "metadata": {
        "id": "akqvlPKiXgjT",
        "colab_type": "code",
        "colab": {}
      },
      "source": [
        "test_data = pd.read_excel(filename)\n",
        "\n",
        "test_data.head()"
      ],
      "execution_count": 0,
      "outputs": []
    },
    {
      "cell_type": "code",
      "metadata": {
        "id": "G6-LL3zWQOp9",
        "colab_type": "code",
        "colab": {}
      },
      "source": [
        "\n",
        "test_data[\"Predictions\"] = 'default value'\n",
        "for index, item in enumerate(test_data['Items']):\n",
        "  test_data['Predictions'][index] = model1.predict([item])\n"
      ],
      "execution_count": 0,
      "outputs": []
    },
    {
      "cell_type": "code",
      "metadata": {
        "id": "vklEAlbhQmhU",
        "colab_type": "code",
        "colab": {}
      },
      "source": [
        "from google.colab import files\n",
        "test_data.to_csv('_predicted.csv')\n",
        "files.download('_predicted.csv')"
      ],
      "execution_count": 0,
      "outputs": []
    }
  ]
}